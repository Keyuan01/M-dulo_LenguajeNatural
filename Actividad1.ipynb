{
 "cells": [
  {
   "cell_type": "markdown",
   "metadata": {},
   "source": [
    "# Actividad 1 Natural Language Processing \n",
    "Integrantes del equipo:\n",
    "- Diego Arturo Padilla Domínguez - A01552594\n",
    "- Keyuan Zhao - A01366831\n",
    "- Carolina Herrera Martínez - A01411547\n",
    "- Cutberto Arizabalo Nava - A01411431\n",
    "- Jose Pablo Cobos Austria - A01274631"
   ]
  },
  {
   "cell_type": "code",
   "execution_count": 1,
   "metadata": {},
   "outputs": [],
   "source": [
    "import numpy as np\n",
    "\n",
    "#Gensim\n",
    "from gensim.test.utils import datapath, get_tmpfile\n",
    "from gensim.models import KeyedVectors\n",
    "from gensim.scripts.glove2word2vec import glove2word2vec\n",
    "\n",
    "import matplotlib.pyplot as plt\n",
    "plt.style.use('ggplot')\n",
    "\n",
    "from sklearn.decomposition import PCA\n",
    "from sklearn.metrics.pairwise import pairwise_distances"
   ]
  },
  {
   "cell_type": "code",
   "execution_count": 2,
   "metadata": {},
   "outputs": [
    {
     "name": "stderr",
     "output_type": "stream",
     "text": [
      "C:\\Users\\Keyuan\\AppData\\Local\\Temp\\ipykernel_19764\\2676296476.py:9: DeprecationWarning: Call to deprecated `glove2word2vec` (KeyedVectors.load_word2vec_format(.., binary=False, no_header=True) loads GLoVE text vectors.).\n",
      "  glove2word2vec(glove_file, word2vec_glove_file)\n"
     ]
    },
    {
     "data": {
      "text/plain": [
       "(400000, 100)"
      ]
     },
     "execution_count": 2,
     "metadata": {},
     "output_type": "execute_result"
    }
   ],
   "source": [
    "import os\n",
    "# glove_file = datapath('/embeddings/glove.6B.100d.txt')\n",
    "# directorio del archivo\n",
    "glove_file = r\"embeddings/glove.6B.100d.txt\"\n",
    "assert os.path.isfile(glove_file)\n",
    "\n",
    "word2vec_glove_file = get_tmpfile(\"glove.6B.100d.word2vec.txt\")\n",
    "\n",
    "glove2word2vec(glove_file, word2vec_glove_file)\n"
   ]
  },
  {
   "cell_type": "code",
   "execution_count": 3,
   "metadata": {},
   "outputs": [],
   "source": [
    "word2vec = {}\n",
    "embedding = []\n",
    "idx2word = []\n",
    "with open(glove_file) as f:\n",
    "    for i, line in enumerate(f):\n",
    "        value = line.split(\" \")\n",
    "        word = value[0]\n",
    "        vec = np.asarray(value[1:], dtype = 'float32')\n",
    "        word2vec[word] = vec\n",
    "        embedding.append(vec)\n",
    "        idx2word.append(word)"
   ]
  },
  {
   "cell_type": "code",
   "execution_count": 4,
   "metadata": {},
   "outputs": [],
   "source": [
    "model = KeyedVectors.load_word2vec_format(word2vec_glove_file)"
   ]
  },
  {
   "cell_type": "code",
   "execution_count": 5,
   "metadata": {},
   "outputs": [
    {
     "data": {
      "text/plain": [
       "[('cat', 0.8798074126243591),\n",
       " ('dogs', 0.8344309329986572),\n",
       " ('pet', 0.7449564337730408),\n",
       " ('puppy', 0.723637580871582),\n",
       " ('horse', 0.7109653949737549),\n",
       " ('animal', 0.6817063093185425),\n",
       " ('pig', 0.655417263507843),\n",
       " ('boy', 0.6545308232307434),\n",
       " ('cats', 0.6471932530403137),\n",
       " ('rabbit', 0.6468630433082581)]"
      ]
     },
     "execution_count": 5,
     "metadata": {},
     "output_type": "execute_result"
    }
   ],
   "source": [
    "model.most_similar('dog')"
   ]
  },
  {
   "cell_type": "code",
   "execution_count": 6,
   "metadata": {},
   "outputs": [
    {
     "data": {
      "text/plain": [
       "[('goodbye', 0.7905023694038391),\n",
       " ('hey', 0.7171452641487122),\n",
       " ('!', 0.6594691872596741),\n",
       " ('yeah', 0.6267021894454956),\n",
       " ('dear', 0.6220601201057434),\n",
       " ('mister', 0.6092501878738403),\n",
       " ('wow', 0.6079445481300354),\n",
       " ('muddah', 0.6048929691314697),\n",
       " ('mama', 0.6034210920333862),\n",
       " ('thank', 0.5993260145187378)]"
      ]
     },
     "execution_count": 6,
     "metadata": {},
     "output_type": "execute_result"
    }
   ],
   "source": [
    "model.most_similar('hello')"
   ]
  },
  {
   "cell_type": "code",
   "execution_count": 19,
   "metadata": {},
   "outputs": [],
   "source": [
    "def distance(word1, word2):\n",
    "    return np.dot(model[word1], model[word2])/(np.linalg.norm(model[word1])* np.linalg.norm(model[word2]))"
   ]
  },
  {
   "cell_type": "code",
   "execution_count": 20,
   "metadata": {},
   "outputs": [
    {
     "data": {
      "text/plain": [
       "0.71714526"
      ]
     },
     "execution_count": 20,
     "metadata": {},
     "output_type": "execute_result"
    }
   ],
   "source": [
    "distance('hello', 'hey')"
   ]
  },
  {
   "cell_type": "code",
   "execution_count": 17,
   "metadata": {},
   "outputs": [],
   "source": [
    "embedding = np.array(embedding)\n",
    "V,D = embedding.shape\n",
    "def analogy(x1, x2, y1):\n",
    "    for w in (x1, x2, y1):\n",
    "        if w not in word2vec:\n",
    "            print(\"%s not in dictionary\" % w)\n",
    "            return\n",
    "    x1vec = word2vec[x1]\n",
    "    x2vec = word2vec[x2]\n",
    "    y1vec = word2vec[y1]\n",
    "    Vo = x2vec - x1vec + y1vec\n",
    "    \n",
    "    distance = pairwise_distances(Vo.reshape(1,D), embedding, metric = 'l2').reshape(V)\n",
    "    ids = distance.argsort()[:4]\n",
    "    words = [idx2word[idm] for idm in ids]\n",
    "     \n",
    "    best = [word for word in words if word not in (x1, x2, y1)]\n",
    "    print('best match word', best)\n",
    "    print('so,\\n',x1, \"-\", x2, \"=\", y1, \"-\", best[0])"
   ]
  },
  {
   "cell_type": "code",
   "execution_count": 8,
   "metadata": {},
   "outputs": [],
   "source": [
    "def display_pca_scatterplot(model, words):\n",
    "        \n",
    "    word_vectors = np.array([model[w] for w in words])\n",
    "\n",
    "    twodim = PCA().fit_transform(word_vectors)[:,:2]\n",
    "    \n",
    "    plt.figure(figsize=(6,6))\n",
    "    plt.scatter(twodim[:,0], twodim[:,1], edgecolors='k', c='r')\n",
    "    for word, (x,y) in zip(words, twodim):\n",
    "        plt.text(x+0.05, y+0.05, word)"
   ]
  },
  {
   "cell_type": "code",
   "execution_count": 18,
   "metadata": {},
   "outputs": [
    {
     "name": "stdout",
     "output_type": "stream",
     "text": [
      "best match word  ['queen', 'monarch']\n",
      "so,\n",
      " man - king = women - queen\n"
     ]
    }
   ],
   "source": [
    "analogy('man', 'king', 'women')"
   ]
  },
  {
   "cell_type": "code",
   "execution_count": 10,
   "metadata": {},
   "outputs": [
    {
     "data": {
      "image/png": "[encoded data removed]",
      "text/plain": [
       "<Figure size 432x432 with 1 Axes>"
      ]
     },
     "metadata": {
      "needs_background": "light"
     },
     "output_type": "display_data"
    }
   ],
   "source": [
    "display_pca_scatterplot(model, \n",
    "                        ['coffee', 'tea', 'beer', 'wine', 'brandy', 'rum', 'champagne', 'water',\n",
    "                         'spaghetti', 'borscht', 'hamburger', 'pizza', 'falafel', 'sushi', 'meatballs',\n",
    "                         'dog', 'horse', 'cat', 'monkey', 'parrot', 'koala', 'lizard',\n",
    "                         'frog', 'toad', 'monkey', 'ape', 'kangaroo', 'wombat', 'wolf',\n",
    "                         'france', 'germany', 'hungary', 'luxembourg', 'australia', 'fiji', 'china',\n",
    "                         'homework', 'assignment', 'problem', 'exam', 'test', 'class',\n",
    "                         'school', 'college', 'university', 'institute'])"
   ]
  }
 ],
 "metadata": {
  "kernelspec": {
   "display_name": "Python 3.10.6 64-bit",
   "language": "python",
   "name": "python3"
  },
  "language_info": {
   "codemirror_mode": {
    "name": "ipython",
    "version": 3
   },
   "file_extension": ".py",
   "mimetype": "text/x-python",
   "name": "python",
   "nbconvert_exporter": "python",
   "pygments_lexer": "ipython3",
   "version": "3.10.6"
  },
  "orig_nbformat": 4,
  "vscode": {
   "interpreter": {
    "hash": "133fd65124d47087278080ce2672ddb61d011154891abaa1755e2523f8a49fa3"
   }
  }
 },
 "nbformat": 4,
 "nbformat_minor": 2
}
